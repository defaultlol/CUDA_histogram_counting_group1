{
  "cells": [
    {
      "cell_type": "markdown",
      "metadata": {},
      "source": [
        "# GROUP 1\n",
        "### Members:\n",
        "- Abdul Raafi M. Bandrang\n",
        "- Dennis Paulo S. Delgado"
      ]
    },
    {
      "cell_type": "markdown",
      "metadata": {
        "id": "Y3E_1h8UsROq"
      },
      "source": [
        "## C Histogram Program"
      ]
    },
    {
      "cell_type": "code",
      "execution_count": null,
      "metadata": {
        "colab": {
          "base_uri": "https://localhost:8080/"
        },
        "id": "v2rzd7ep4_by",
        "outputId": "07650494-3e16-46dd-aeb8-ef975749d930"
      },
      "outputs": [
        {
          "name": "stdout",
          "output_type": "stream",
          "text": [
            "Overwriting C_Histogram.c\n"
          ]
        }
      ],
      "source": [
        "%%writefile C_Histogram.c\n",
        "#include <stdio.h>\n",
        "#include <stdlib.h>\n",
        "#include <time.h>\n",
        "#define BINS 10\n",
        "#define VEC_SIZE 268435456\n",
        "\n",
        "int main()\n",
        "{\n",
        "  int *vector=(int *)malloc(sizeof(int) * VEC_SIZE);\n",
        "  for (int i = 0; i <VEC_SIZE; i++)\n",
        "  {\n",
        "    vector[i] = i;\n",
        "  }\n",
        "  int histogram[BINS] = {0};\n",
        "  clock_t start = clock();\n",
        "  for (int i = 0; i < VEC_SIZE;i++)\n",
        "  {\n",
        "    int bin = vector[i] % BINS;\n",
        "    histogram[bin]++;\n",
        "  }\n",
        "  clock_t end = clock();\n",
        "  printf(\"Historgram Counter:\\n\");\n",
        "  for(int i=0; i < BINS; i++)\n",
        "  {\n",
        "    printf(\"Bin %d: %d\\n\", i,histogram[i] );\n",
        "  }\n",
        "  double time =((double)(end-start)) / CLOCKS_PER_SEC;\n",
        "  printf(\"execution time:%f seconds\",time);\n",
        "  free(vector);\n",
        "  return 0;\n",
        "}"
      ]
    },
    {
      "cell_type": "code",
      "execution_count": null,
      "metadata": {
        "colab": {
          "base_uri": "https://localhost:8080/"
        },
        "id": "Mi18qrmp5UZ_",
        "outputId": "5983101c-7c73-4b7d-b206-9a1a6e649674"
      },
      "outputs": [
        {
          "data": {
            "text/plain": []
          },
          "execution_count": 99,
          "metadata": {},
          "output_type": "execute_result"
        }
      ],
      "source": [
        "%%shell\n",
        "gcc C_Histogram.c -o C_Histogram"
      ]
    },
    {
      "cell_type": "code",
      "execution_count": null,
      "metadata": {
        "colab": {
          "base_uri": "https://localhost:8080/"
        },
        "id": "McbOhzEC6w7G",
        "outputId": "97ce234f-c770-426b-9371-4dce3b727e62"
      },
      "outputs": [
        {
          "name": "stdout",
          "output_type": "stream",
          "text": [
            "Historgram Counter:\n",
            "Bin 0: 26843546\n",
            "Bin 1: 26843546\n",
            "Bin 2: 26843546\n",
            "Bin 3: 26843546\n",
            "Bin 4: 26843546\n",
            "Bin 5: 26843546\n",
            "Bin 6: 26843545\n",
            "Bin 7: 26843545\n",
            "Bin 8: 26843545\n",
            "Bin 9: 26843545\n",
            "execution time:1.119167 seconds"
          ]
        },
        {
          "data": {
            "text/plain": []
          },
          "execution_count": 100,
          "metadata": {},
          "output_type": "execute_result"
        }
      ],
      "source": [
        "%%shell\n",
        "./C_Histogram"
      ]
    },
    {
      "cell_type": "markdown",
      "metadata": {
        "id": "ubwYpRKOsVgZ"
      },
      "source": [
        "## CUDA Histogram Program"
      ]
    },
    {
      "cell_type": "code",
      "execution_count": null,
      "metadata": {
        "colab": {
          "base_uri": "https://localhost:8080/"
        },
        "id": "KO6V2e8lsnqy",
        "outputId": "a1d0c102-be9e-4da8-94ea-85f3557a0f5e"
      },
      "outputs": [
        {
          "name": "stdout",
          "output_type": "stream",
          "text": [
            "Overwriting C_CudaHistogram.cu\n"
          ]
        }
      ],
      "source": [
        "%%writefile C_CudaHistogram.cu\n",
        "#include <stdio.h>\n",
        "#include <cuda.h>\n",
        "#include <time.h>\n",
        "#define VEC_SIZE 268435456\n",
        "#define BINS 10\n",
        "#define threadsPerBlock 256\n",
        "\n",
        "__global__ void histogramFunc(int *vector,int *histogram, int n)\n",
        "{\n",
        "  int idx = blockIdx.x * blockDim.x + threadIdx.x;\n",
        "  if(idx < n)\n",
        "  {\n",
        "    int bin = vector[idx] % BINS;\n",
        "    atomicAdd(&histogram[bin],1);\n",
        "  }\n",
        "}\n",
        "\n",
        "int main()\n",
        "{\n",
        "  int *vector,*histogram;\n",
        "  int device = 0;\n",
        "  cudaSetDevice(device);\n",
        "  cudaMallocManaged(&vector,VEC_SIZE * sizeof(int));\n",
        "  cudaMallocManaged(&histogram,VEC_SIZE * sizeof(int));\n",
        "  cudaMemAdvise(vector,VEC_SIZE*sizeof(int),cudaMemAdviseSetPreferredLocation,device);\n",
        "  cudaMemAdvise(histogram,BINS*sizeof(int),cudaMemAdviseSetPreferredLocation,device);\n",
        "  cudaMemAdvise(histogram,BINS*sizeof(int),cudaMemAdviseSetAccessedBy,device);\n",
        "\n",
        "  for(int i=0; i<VEC_SIZE;i++)\n",
        "  {\n",
        "    vector[i]=i;\n",
        "  }\n",
        "  int blocks = (VEC_SIZE + threadsPerBlock-1) / threadsPerBlock;\n",
        "  clock_t start = clock();\n",
        "  histogramFunc<<<blocks,threadsPerBlock>>>(vector,histogram,VEC_SIZE);\n",
        "  clock_t end = clock();\n",
        "  cudaDeviceSynchronize();\n",
        "\n",
        "  for(int i = 0 ; i < BINS;i++)\n",
        "  {\n",
        "    printf(\"Bin %d: %d\\n\",i,histogram[i]);\n",
        "  }\n",
        "  double time =((double)(end-start)) / CLOCKS_PER_SEC;\n",
        "  printf(\"execution time:%f seconds\",time);\n",
        "  cudaFree(vector);\n",
        "  cudaFree(histogram);\n",
        "  return 0;\n",
        "\n",
        "}"
      ]
    },
    {
      "cell_type": "code",
      "execution_count": null,
      "metadata": {
        "colab": {
          "base_uri": "https://localhost:8080/"
        },
        "id": "3ciL1Bp97Jvv",
        "outputId": "52022eef-1607-41eb-baec-a28065bd5567"
      },
      "outputs": [
        {
          "name": "stdout",
          "output_type": "stream",
          "text": [
            "Bin 0: 26843546\n",
            "Bin 1: 26843546\n",
            "Bin 2: 26843546\n",
            "Bin 3: 26843546\n",
            "Bin 4: 26843546\n",
            "Bin 5: 26843546\n",
            "Bin 6: 26843545\n",
            "Bin 7: 26843545\n",
            "Bin 8: 26843545\n",
            "Bin 9: 26843545\n",
            "execution time:0.000241 seconds"
          ]
        }
      ],
      "source": [
        "!nvcc -arch=sm_75 C_CudaHistogram.cu -o C_CudaHistogram\n",
        "!./C_CudaHistogram"
      ]
    },
    {
      "cell_type": "code",
      "execution_count": null,
      "metadata": {
        "id": "q2a8jVt6u-dz"
      },
      "outputs": [],
      "source": []
    }
  ],
  "metadata": {
    "accelerator": "GPU",
    "colab": {
      "gpuType": "T4",
      "provenance": []
    },
    "kernelspec": {
      "display_name": "Python 3",
      "name": "python3"
    },
    "language_info": {
      "codemirror_mode": {
        "name": "ipython",
        "version": 3
      },
      "file_extension": ".py",
      "mimetype": "text/x-python",
      "name": "python",
      "nbconvert_exporter": "python",
      "pygments_lexer": "ipython3",
      "version": "3.10.12"
    }
  },
  "nbformat": 4,
  "nbformat_minor": 0
}
