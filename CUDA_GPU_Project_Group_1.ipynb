{
  "nbformat": 4,
  "nbformat_minor": 0,
  "metadata": {
    "colab": {
      "provenance": [],
      "gpuType": "T4"
    },
    "kernelspec": {
      "name": "python3",
      "display_name": "Python 3"
    },
    "language_info": {
      "name": "python"
    },
    "accelerator": "GPU"
  },
  "cells": [
    {
      "cell_type": "markdown",
      "source": [
        "## C Histogram Program"
      ],
      "metadata": {
        "id": "Y3E_1h8UsROq"
      }
    },
    {
      "cell_type": "code",
      "execution_count": 1,
      "metadata": {
        "id": "v2rzd7ep4_by",
        "colab": {
          "base_uri": "https://localhost:8080/"
        },
        "outputId": "0e77886d-c5ee-4824-fc9e-28a14d7902c7"
      },
      "outputs": [
        {
          "output_type": "stream",
          "name": "stdout",
          "text": [
            "Writing C_Histogram.c\n"
          ]
        }
      ],
      "source": [
        "%%writefile C_Histogram.c\n",
        "#include <stdio.h>\n",
        "#include <stdlib.h>\n",
        "#include <time.h>\n",
        "#define BINS 10\n",
        "#define VEC_SIZE 268435456\n",
        "\n",
        "int main()\n",
        "{\n",
        "  clock_t start = clock();\n",
        "  int *vector=(int *)malloc(sizeof(int) * VEC_SIZE);\n",
        "  for (int i = 0; i <VEC_SIZE; i++)\n",
        "  {\n",
        "    vector[i] = i;\n",
        "  }\n",
        "  int histogram[BINS] = {0};\n",
        "\n",
        "  for (int i = 0; i < VEC_SIZE;i++)\n",
        "  {\n",
        "    int bin = vector[i] % BINS;\n",
        "    histogram[bin]++;\n",
        "  }\n",
        "  clock_t end = clock();\n",
        "  double time =((double)(end-start)) / CLOCKS_PER_SEC;\n",
        "  printf(\"Historgram Counter:\\n\");\n",
        "  for(int i=0; i < BINS; i++)\n",
        "  {\n",
        "    printf(\"Bin %d: %d\\n\", i,histogram[i] );\n",
        "  }\n",
        "  printf(\"execution time:%f seconds\\n\",time);\n",
        "  size_t err_count = 0;\n",
        "  int lbin=VEC_SIZE/10;\n",
        "  int hbin=lbin+1;\n",
        "  int thresh=VEC_SIZE%10;\n",
        "  for (size_t i=0; i<BINS; i++){\n",
        "    if (i<thresh){\n",
        "      if (hbin!=histogram[i])\n",
        "        err_count++;\n",
        "    }\n",
        "    else{\n",
        "      if (lbin!=histogram[i])\n",
        "        err_count++;\n",
        "    }\n",
        "  }\n",
        "\n",
        "  printf(\"no. of errors:%ld\\n\",err_count);\n",
        "  free(vector);\n",
        "  return 0;\n",
        "}"
      ]
    },
    {
      "cell_type": "code",
      "source": [
        "%%shell\n",
        "gcc C_Histogram.c -o C_Histogram\n",
        "./C_Histogram"
      ],
      "metadata": {
        "colab": {
          "base_uri": "https://localhost:8080/"
        },
        "id": "Mi18qrmp5UZ_",
        "outputId": "e5f4d8fd-33f5-486c-c2e3-52a0b867e139"
      },
      "execution_count": 2,
      "outputs": [
        {
          "output_type": "stream",
          "name": "stdout",
          "text": [
            "Historgram Counter:\n",
            "Bin 0: 26843546\n",
            "Bin 1: 26843546\n",
            "Bin 2: 26843546\n",
            "Bin 3: 26843546\n",
            "Bin 4: 26843546\n",
            "Bin 5: 26843546\n",
            "Bin 6: 26843545\n",
            "Bin 7: 26843545\n",
            "Bin 8: 26843545\n",
            "Bin 9: 26843545\n",
            "execution time:2.772377 seconds\n",
            "no. of errors:0\n"
          ]
        },
        {
          "output_type": "execute_result",
          "data": {
            "text/plain": []
          },
          "metadata": {},
          "execution_count": 2
        }
      ]
    },
    {
      "cell_type": "code",
      "source": [
        "%%shell\n",
        "count=30\n",
        "for i in $(seq $count); do\n",
        "    ./C_Histogram\n",
        "done"
      ],
      "metadata": {
        "colab": {
          "base_uri": "https://localhost:8080/"
        },
        "id": "FNZ4T8-z8Xs4",
        "outputId": "e38550db-2535-47a4-d56b-805f6d3acf3d"
      },
      "execution_count": null,
      "outputs": [
        {
          "output_type": "stream",
          "name": "stdout",
          "text": [
            "execution time:2.214624 seconds\n",
            "execution time:2.238716 seconds\n",
            "execution time:2.200602 seconds\n",
            "execution time:2.694822 seconds\n",
            "execution time:2.212267 seconds\n",
            "execution time:2.196411 seconds\n",
            "execution time:2.203299 seconds\n",
            "execution time:2.193172 seconds\n",
            "execution time:2.656205 seconds\n",
            "execution time:2.252391 seconds\n",
            "execution time:2.202794 seconds\n",
            "execution time:2.213818 seconds\n",
            "execution time:2.203160 seconds\n",
            "execution time:2.493078 seconds\n",
            "execution time:2.292633 seconds\n",
            "execution time:2.208325 seconds\n",
            "execution time:2.196955 seconds\n",
            "execution time:2.206388 seconds\n",
            "execution time:2.375831 seconds\n",
            "execution time:2.429471 seconds\n",
            "execution time:2.197898 seconds\n",
            "execution time:2.205885 seconds\n",
            "execution time:2.210731 seconds\n",
            "execution time:2.217466 seconds\n",
            "execution time:2.625715 seconds\n",
            "execution time:2.199572 seconds\n",
            "execution time:2.209313 seconds\n",
            "execution time:2.213637 seconds\n",
            "execution time:2.197803 seconds\n",
            "execution time:2.692892 seconds\n"
          ]
        },
        {
          "output_type": "execute_result",
          "data": {
            "text/plain": []
          },
          "metadata": {},
          "execution_count": 17
        }
      ]
    },
    {
      "cell_type": "markdown",
      "source": [
        "## CUDA Histogram Program"
      ],
      "metadata": {
        "id": "ubwYpRKOsVgZ"
      }
    },
    {
      "cell_type": "code",
      "source": [
        "%%writefile C_CudaHistogram.cu\n",
        "#include <stdio.h>\n",
        "#include <cuda.h>\n",
        "#include <time.h>\n",
        "#define VEC_SIZE 268435456\n",
        "#define BINS 10\n",
        "#define threadsPerBlock 256\n",
        "\n",
        "__global__ void histogramFunc(int *vector,int *histogram, int n)\n",
        "{\n",
        "  int idx = blockIdx.x * blockDim.x + threadIdx.x;\n",
        "  if(idx < n)\n",
        "  {\n",
        "    int bin = vector[idx] % BINS;\n",
        "    atomicAdd(&histogram[bin],1);\n",
        "  }\n",
        "}\n",
        "\n",
        "int main()\n",
        "{\n",
        "  clock_t start = clock();\n",
        "  int *vector,*histogram;\n",
        "  int device = 0;\n",
        "  cudaSetDevice(device);\n",
        "  cudaMallocManaged(&vector,VEC_SIZE * sizeof(int));\n",
        "  cudaMallocManaged(&histogram,VEC_SIZE * sizeof(int));\n",
        "  cudaMemAdvise(vector,VEC_SIZE*sizeof(int),cudaMemAdviseSetPreferredLocation,device);\n",
        "  cudaMemAdvise(histogram,BINS*sizeof(int),cudaMemAdviseSetPreferredLocation,device);\n",
        "  cudaMemAdvise(histogram,BINS*sizeof(int),cudaMemAdviseSetAccessedBy,device);\n",
        "\n",
        "  for(int i=0; i<VEC_SIZE;i++)\n",
        "  {\n",
        "    vector[i]=i;\n",
        "  }\n",
        "  int blocks = (VEC_SIZE + threadsPerBlock-1) / threadsPerBlock;\n",
        "  histogramFunc<<<blocks,threadsPerBlock>>>(vector,histogram,VEC_SIZE);\n",
        "  cudaDeviceSynchronize();\n",
        "  clock_t end = clock();\n",
        "\n",
        "  for(int i = 0 ; i < BINS;i++)\n",
        "  {\n",
        "    printf(\"Bin %d: %d\\n\",i,histogram[i]);\n",
        "  }\n",
        "  double time =((double)(end-start)) / CLOCKS_PER_SEC;\n",
        "  printf(\"execution time:%f seconds\\n\",time);\n",
        "  size_t err_count = 0;\n",
        "  int lbin=VEC_SIZE/10;\n",
        "  int hbin=lbin+1;\n",
        "  int thresh=VEC_SIZE%10;\n",
        "  for (size_t i=0; i<BINS; i++){\n",
        "    if (i<thresh){\n",
        "      if (hbin!=histogram[i])\n",
        "        err_count++;\n",
        "    }\n",
        "    else{\n",
        "      if (lbin!=histogram[i])\n",
        "        err_count++;\n",
        "    }\n",
        "  }\n",
        "\n",
        "  printf(\"no. of errors:%ld\\n\",err_count);\n",
        "\n",
        "\n",
        "  cudaFree(vector);\n",
        "  cudaFree(histogram);\n",
        "\n",
        "  return 0;\n",
        "\n",
        "}"
      ],
      "metadata": {
        "colab": {
          "base_uri": "https://localhost:8080/"
        },
        "id": "KO6V2e8lsnqy",
        "outputId": "e1f20736-8d32-462e-d56a-95b7fdd50ef1"
      },
      "execution_count": 3,
      "outputs": [
        {
          "output_type": "stream",
          "name": "stdout",
          "text": [
            "Writing C_CudaHistogram.cu\n"
          ]
        }
      ]
    },
    {
      "cell_type": "code",
      "source": [
        "!nvcc -arch=sm_75 C_CudaHistogram.cu -o C_CudaHistogram\n",
        "!./C_CudaHistogram"
      ],
      "metadata": {
        "id": "3ciL1Bp97Jvv",
        "colab": {
          "base_uri": "https://localhost:8080/"
        },
        "outputId": "dffe9b49-38f6-46e4-9742-c23c6c05216e"
      },
      "execution_count": 4,
      "outputs": [
        {
          "output_type": "stream",
          "name": "stdout",
          "text": [
            "Bin 0: 26843546\n",
            "Bin 1: 26843546\n",
            "Bin 2: 26843546\n",
            "Bin 3: 26843546\n",
            "Bin 4: 26843546\n",
            "Bin 5: 26843546\n",
            "Bin 6: 26843545\n",
            "Bin 7: 26843545\n",
            "Bin 8: 26843545\n",
            "Bin 9: 26843545\n",
            "execution time:1.723160 seconds\n",
            "no. of errors:0\n"
          ]
        }
      ]
    },
    {
      "cell_type": "code",
      "source": [
        "%%shell\n",
        "count=30\n",
        "for i in $(seq $count); do\n",
        "    ./C_CudaHistogram\n",
        "done"
      ],
      "metadata": {
        "id": "q2a8jVt6u-dz",
        "colab": {
          "base_uri": "https://localhost:8080/"
        },
        "outputId": "e5d8bd32-5c24-49f1-d763-0ee05faba9e5"
      },
      "execution_count": null,
      "outputs": [
        {
          "output_type": "stream",
          "name": "stdout",
          "text": [
            "execution time:1.708912 seconds\n",
            "execution time:1.643663 seconds\n",
            "execution time:1.747311 seconds\n",
            "execution time:1.818090 seconds\n",
            "execution time:1.644151 seconds\n",
            "execution time:1.643448 seconds\n",
            "execution time:1.640953 seconds\n",
            "execution time:1.609790 seconds\n",
            "execution time:1.628516 seconds\n",
            "execution time:1.702617 seconds\n",
            "execution time:1.776193 seconds\n",
            "execution time:1.626385 seconds\n",
            "execution time:1.634932 seconds\n",
            "execution time:1.650545 seconds\n",
            "execution time:1.657738 seconds\n",
            "execution time:1.662367 seconds\n",
            "execution time:1.770837 seconds\n",
            "execution time:1.714365 seconds\n",
            "execution time:1.642696 seconds\n",
            "execution time:1.654965 seconds\n",
            "execution time:1.648395 seconds\n",
            "execution time:1.670149 seconds\n",
            "execution time:1.676327 seconds\n",
            "execution time:1.752822 seconds\n",
            "execution time:1.792196 seconds\n",
            "execution time:1.662551 seconds\n",
            "execution time:1.674336 seconds\n",
            "execution time:1.661690 seconds\n",
            "execution time:1.712766 seconds\n",
            "execution time:1.638753 seconds\n"
          ]
        },
        {
          "output_type": "execute_result",
          "data": {
            "text/plain": []
          },
          "metadata": {},
          "execution_count": 22
        }
      ]
    }
  ]
}